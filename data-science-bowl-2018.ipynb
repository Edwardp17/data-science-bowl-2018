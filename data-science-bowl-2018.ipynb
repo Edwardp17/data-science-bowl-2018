{
 "cells": [
  {
   "cell_type": "markdown",
   "metadata": {},
   "source": [
    "# Data Science Bowl 2018\n",
    "@edwardp17 @edgarpavlovsky "
   ]
  },
  {
   "cell_type": "markdown",
   "metadata": {},
   "source": [
    "# Import libraries, configure, set parameters"
   ]
  },
  {
   "cell_type": "markdown",
   "metadata": {},
   "source": [
    "Import libraries:"
   ]
  },
  {
   "cell_type": "code",
   "execution_count": 1,
   "metadata": {
    "collapsed": true
   },
   "outputs": [],
   "source": [
    "import warnings\n",
    "import random\n",
    "import os\n",
    "\n",
    "# consider from skimage.io import imread, imshow, imread_collection, concatenate_images\n",
    "# consider imageio\n",
    "from PIL import Image\n",
    "from skimage.transform import resize\n",
    "from skimage.io import imshow\n",
    "\n",
    "import numpy as np\n",
    "import pandas as pd\n",
    "import pathlib\n",
    "\n",
    "import matplotlib.pyplot as plt"
   ]
  },
  {
   "cell_type": "markdown",
   "metadata": {},
   "source": [
    "Configure:"
   ]
  },
  {
   "cell_type": "code",
   "execution_count": 2,
   "metadata": {
    "collapsed": true
   },
   "outputs": [],
   "source": [
    "% matplotlib inline"
   ]
  },
  {
   "cell_type": "code",
   "execution_count": 3,
   "metadata": {
    "collapsed": true
   },
   "outputs": [],
   "source": [
    "#warnings.filterwarnings('ignore', category=UserWarning, module='skimage')\n",
    "seed = 42\n",
    "random.seed = seed\n",
    "np.random.seed = seed"
   ]
  },
  {
   "cell_type": "markdown",
   "metadata": {},
   "source": [
    "Set parameters:"
   ]
  },
  {
   "cell_type": "code",
   "execution_count": 4,
   "metadata": {
    "collapsed": true
   },
   "outputs": [],
   "source": [
    "# set parameters\n",
    "# We can use `IMG_WIDTH` and `IMG_HEIGHT` to downsize the images\n",
    "# if we need to, but we're not going to yet.\n",
    "# IMG_WIDTH = 128\n",
    "# IMG_HEIGHT = 128\n",
    "\n",
    "# Images actually have 3 channels.\n",
    "# We grayscale below. Consider moving back up to 3 channels.\n",
    "# IMG_CHANNELS = 3\n",
    "\n",
    "# NOTE: If we run this notebook on Kaggle,\n",
    "#  'data' in the paths needs to be changed to '../input/'\n",
    "TRAIN_PATH = 'data/stage1_train/'\n",
    "TEST_PATH = 'data/stage1_test/'"
   ]
  },
  {
   "cell_type": "code",
   "execution_count": 5,
   "metadata": {},
   "outputs": [],
   "source": [
    "# Get train and test IDs\n",
    "train_ids = next(os.walk(TRAIN_PATH))[1]\n",
    "test_ids = next(os.walk(TEST_PATH))[1]"
   ]
  },
  {
   "cell_type": "markdown",
   "metadata": {},
   "source": [
    "View a sample image:"
   ]
  },
  {
   "cell_type": "code",
   "execution_count": 6,
   "metadata": {
    "collapsed": true
   },
   "outputs": [],
   "source": [
    "im_id = str(train_ids[45])\n",
    "im_full_path = TRAIN_PATH + im_id +'/images/'+ im_id +'.png'"
   ]
  },
  {
   "cell_type": "code",
   "execution_count": 7,
   "metadata": {
    "collapsed": true
   },
   "outputs": [],
   "source": [
    "im = Image.open(im_full_path)\n",
    "arr_im = np.asarray(im)"
   ]
  },
  {
   "cell_type": "code",
   "execution_count": 11,
   "metadata": {},
   "outputs": [
    {
     "data": {
      "text/plain": [
       "array([[[  2,   2,   2, 255],\n",
       "        [  2,   2,   2, 255],\n",
       "        [  2,   2,   2, 255],\n",
       "        ..., \n",
       "        [  1,   1,   1, 255],\n",
       "        [  1,   1,   1, 255],\n",
       "        [  1,   1,   1, 255]],\n",
       "\n",
       "       [[  2,   2,   2, 255],\n",
       "        [  2,   2,   2, 255],\n",
       "        [  2,   2,   2, 255],\n",
       "        ..., \n",
       "        [  1,   1,   1, 255],\n",
       "        [  2,   2,   2, 255],\n",
       "        [  2,   2,   2, 255]],\n",
       "\n",
       "       [[  2,   2,   2, 255],\n",
       "        [  2,   2,   2, 255],\n",
       "        [  2,   2,   2, 255],\n",
       "        ..., \n",
       "        [  1,   1,   1, 255],\n",
       "        [  1,   1,   1, 255],\n",
       "        [  1,   1,   1, 255]]], dtype=uint8)"
      ]
     },
     "execution_count": 11,
     "metadata": {},
     "output_type": "execute_result"
    }
   ],
   "source": [
    "arr_im[:3]"
   ]
  },
  {
   "cell_type": "code",
   "execution_count": 12,
   "metadata": {
    "scrolled": true
   },
   "outputs": [
    {
     "name": "stdout",
     "output_type": "stream",
     "text": [
      "Original image shape: (520, 696, 4)\n"
     ]
    }
   ],
   "source": [
    "# Print the image dimensions\n",
    "print('Original image shape: {}'.format(arr_im.shape))\n",
    "\n",
    "# from skimage.color import rgb2gray\n",
    "# im_gray = rgb2gray(im)\n",
    "# print('New image shape: {}'.format(im_gray.shape))"
   ]
  },
  {
   "cell_type": "code",
   "execution_count": 13,
   "metadata": {},
   "outputs": [
    {
     "data": {
      "image/png": "[encoded data removed]",
      "text/plain": [
       "<PIL.Image.Image image mode=RGBA size=256x256 at 0x1C15C97A20>"
      ]
     },
     "execution_count": 13,
     "metadata": {},
     "output_type": "execute_result"
    }
   ],
   "source": [
    "im.resize((256,256))"
   ]
  },
  {
   "cell_type": "markdown",
   "metadata": {},
   "source": [
    "# Get data"
   ]
  },
  {
   "cell_type": "code",
   "execution_count": 25,
   "metadata": {
    "collapsed": true
   },
   "outputs": [],
   "source": [
    "def load_data(ids,path,training_data,im_folder='images',\\\n",
    "              mask_folder='masks',im_file_type='.png',\\\n",
    "             im_dim_1=520,im_dim_2=696,im_dim_3=4):\n",
    "    \n",
    "    # ids: the array of image ids\n",
    "    # path: the general directory path, e.g. TRAIN_PATH or TEST_PATH\n",
    "    # training data: a boolean that specifies whether the data being loaded is training data\n",
    "    # im_folder: the image subfolder\n",
    "    # mask_folder: the mask subfolder\n",
    "    # im_file_type: the image file type. an assumption is made that\n",
    "    #  the file type is the same for every image.\n",
    "    # im_dim_1: the first standardization dimension to convert images to.\n",
    "    # im_dim_2: the second standardization dimension to convert images to.\n",
    "    # im_dim_3: the third standardization dimension to convert images to.\n",
    "    \n",
    "    # initialize empty lists\n",
    "    X = []\n",
    "    if training_data: y = []\n",
    "    \n",
    "    # print progress\n",
    "    print(str(len(ids))+' images to load. This may take a while!')\n",
    "    print('Loading dataset..')\n",
    "\n",
    "    for i in range(len(ids)):\n",
    "        # print progress metrics in notebook\n",
    "        if i % 10 == 0 and i != 0:\n",
    "            print(str(i)+'/'+str(len(ids))+' images loaded..')\n",
    "        \n",
    "        i = ids[i]\n",
    "        \n",
    "        # general directory path\n",
    "        dir_path = path+i\n",
    "        \n",
    "        # load image\n",
    "        im = Image.open(dir_path+'/'+im_folder+'/'+i+im_file_type)\n",
    "        arr_im = np.asarray(im)\n",
    "        \n",
    "        # resize the image to standardize dimensions\n",
    "        # TODO: Check if `mode` indeed needs to be 'constant' here\n",
    "        arr_im = resize(arr_im, (im_dim_1,im_dim_2,im_dim_3),\\\n",
    "                        mode='constant', preserve_range=True)\n",
    "        \n",
    "        # add numpy image array to X list\n",
    "        X.append(arr_im)\n",
    "        \n",
    "        if training_data:\n",
    "\n",
    "            # TODO: double check that we want np.bool here\n",
    "            arr_full_mask = np.zeros((im_dim_1,im_dim_2,im_dim_3),\\\n",
    "                                     dtype=np.bool)\n",
    "\n",
    "            # BONUS_TODO: [2] in for statement below could be dynamic\n",
    "            for mask_file in next(os.walk(dir_path+'/'+mask_folder+'/'))[2]:\n",
    "                # load a mask\n",
    "                im_mask = Image.open(dir_path+'/'+mask_folder+'/'+mask_file)\n",
    "                # convert mask from image to array\n",
    "                arr_mask = np.asarray(im_mask)\n",
    "                # overlay this mask over every other mask for this image.\n",
    "                # given the nuclei areas are white and\n",
    "                # the areas with no nuclei are black, we can\n",
    "                # use np.maximum() here.\n",
    "                # first, we standardize the dimensions of the mask so it\n",
    "                # fits the image.\n",
    "                arr_mask = resize(arr_mask,(im_dim_1,im_dim_2,\\\n",
    "                                                          im_dim_3),\\\n",
    "                                                mode='constant',\\\n",
    "                                                preserve_range=True)\n",
    "\n",
    "                arr_full_mask = np.maximum(arr_full_mask,arr_mask)\n",
    "\n",
    "            y.append(arr_full_mask)\n",
    "    \n",
    "    return X, y"
   ]
  },
  {
   "cell_type": "markdown",
   "metadata": {},
   "source": [
    "Load training data:"
   ]
  },
  {
   "cell_type": "code",
   "execution_count": 26,
   "metadata": {},
   "outputs": [
    {
     "name": "stdout",
     "output_type": "stream",
     "text": [
      "670 images to load. This may take a while!\n",
      "Loading dataset..\n",
      "10/670 images loaded..\n",
      "20/670 images loaded..\n",
      "30/670 images loaded..\n",
      "40/670 images loaded..\n",
      "50/670 images loaded..\n",
      "60/670 images loaded..\n",
      "70/670 images loaded..\n",
      "80/670 images loaded..\n"
     ]
    },
    {
     "ename": "KeyboardInterrupt",
     "evalue": "",
     "output_type": "error",
     "traceback": [
      "\u001b[0;31m---------------------------------------------------------------------------\u001b[0m",
      "\u001b[0;31mKeyboardInterrupt\u001b[0m                         Traceback (most recent call last)",
      "\u001b[0;32m<ipython-input-26-c101319431f3>\u001b[0m in \u001b[0;36m<module>\u001b[0;34m()\u001b[0m\n\u001b[0;32m----> 1\u001b[0;31m \u001b[0mX_train\u001b[0m\u001b[0;34m,\u001b[0m \u001b[0my_train\u001b[0m \u001b[0;34m=\u001b[0m \u001b[0mload_data\u001b[0m\u001b[0;34m(\u001b[0m\u001b[0mids\u001b[0m\u001b[0;34m=\u001b[0m\u001b[0mtrain_ids\u001b[0m\u001b[0;34m,\u001b[0m                             \u001b[0mpath\u001b[0m\u001b[0;34m=\u001b[0m\u001b[0mTRAIN_PATH\u001b[0m\u001b[0;34m,\u001b[0m                            \u001b[0mtraining_data\u001b[0m\u001b[0;34m=\u001b[0m\u001b[0;32mTrue\u001b[0m\u001b[0;34m)\u001b[0m\u001b[0;34m\u001b[0m\u001b[0m\n\u001b[0m",
      "\u001b[0;32m<ipython-input-25-3090668d3df9>\u001b[0m in \u001b[0;36mload_data\u001b[0;34m(ids, path, training_data, im_folder, mask_folder, im_file_type, im_dim_1, im_dim_2, im_dim_3)\u001b[0m\n\u001b[1;32m     57\u001b[0m                 \u001b[0;31m# first, we standardize the dimensions of the mask so it\u001b[0m\u001b[0;34m\u001b[0m\u001b[0;34m\u001b[0m\u001b[0m\n\u001b[1;32m     58\u001b[0m                 \u001b[0;31m# fits the image.\u001b[0m\u001b[0;34m\u001b[0m\u001b[0;34m\u001b[0m\u001b[0m\n\u001b[0;32m---> 59\u001b[0;31m                 \u001b[0marr_mask\u001b[0m \u001b[0;34m=\u001b[0m \u001b[0mresize\u001b[0m\u001b[0;34m(\u001b[0m\u001b[0marr_mask\u001b[0m\u001b[0;34m,\u001b[0m\u001b[0;34m(\u001b[0m\u001b[0mim_dim_1\u001b[0m\u001b[0;34m,\u001b[0m\u001b[0mim_dim_2\u001b[0m\u001b[0;34m,\u001b[0m                                                          \u001b[0mim_dim_3\u001b[0m\u001b[0;34m)\u001b[0m\u001b[0;34m,\u001b[0m                                                \u001b[0mmode\u001b[0m\u001b[0;34m=\u001b[0m\u001b[0;34m'constant'\u001b[0m\u001b[0;34m,\u001b[0m                                                \u001b[0mpreserve_range\u001b[0m\u001b[0;34m=\u001b[0m\u001b[0;32mTrue\u001b[0m\u001b[0;34m)\u001b[0m\u001b[0;34m\u001b[0m\u001b[0m\n\u001b[0m\u001b[1;32m     60\u001b[0m \u001b[0;34m\u001b[0m\u001b[0m\n\u001b[1;32m     61\u001b[0m                 \u001b[0marr_full_mask\u001b[0m \u001b[0;34m=\u001b[0m \u001b[0mnp\u001b[0m\u001b[0;34m.\u001b[0m\u001b[0mmaximum\u001b[0m\u001b[0;34m(\u001b[0m\u001b[0marr_full_mask\u001b[0m\u001b[0;34m,\u001b[0m\u001b[0marr_mask\u001b[0m\u001b[0;34m)\u001b[0m\u001b[0;34m\u001b[0m\u001b[0m\n",
      "\u001b[0;32m/anaconda3/lib/python3.6/site-packages/skimage/transform/_warps.py\u001b[0m in \u001b[0;36mresize\u001b[0;34m(image, output_shape, order, mode, cval, clip, preserve_range)\u001b[0m\n\u001b[1;32m    111\u001b[0m \u001b[0;34m\u001b[0m\u001b[0m\n\u001b[1;32m    112\u001b[0m         out = ndi.map_coordinates(image, coord_map, order=order,\n\u001b[0;32m--> 113\u001b[0;31m                                   mode=ndi_mode, cval=cval)\n\u001b[0m\u001b[1;32m    114\u001b[0m \u001b[0;34m\u001b[0m\u001b[0m\n\u001b[1;32m    115\u001b[0m         \u001b[0m_clip_warp_output\u001b[0m\u001b[0;34m(\u001b[0m\u001b[0mimage\u001b[0m\u001b[0;34m,\u001b[0m \u001b[0mout\u001b[0m\u001b[0;34m,\u001b[0m \u001b[0morder\u001b[0m\u001b[0;34m,\u001b[0m \u001b[0mmode\u001b[0m\u001b[0;34m,\u001b[0m \u001b[0mcval\u001b[0m\u001b[0;34m,\u001b[0m \u001b[0mclip\u001b[0m\u001b[0;34m)\u001b[0m\u001b[0;34m\u001b[0m\u001b[0m\n",
      "\u001b[0;32m/anaconda3/lib/python3.6/site-packages/scipy/ndimage/interpolation.py\u001b[0m in \u001b[0;36mmap_coordinates\u001b[0;34m(input, coordinates, output, order, mode, cval, prefilter)\u001b[0m\n\u001b[1;32m    355\u001b[0m                                                    shape=output_shape)\n\u001b[1;32m    356\u001b[0m     _geometric_transform(filtered, None, coordinates, None, None,\n\u001b[0;32m--> 357\u001b[0;31m                          output, order, mode, cval, None, None)\n\u001b[0m\u001b[1;32m    358\u001b[0m     \u001b[0;32mreturn\u001b[0m \u001b[0mreturn_value\u001b[0m\u001b[0;34m\u001b[0m\u001b[0m\n\u001b[1;32m    359\u001b[0m \u001b[0;34m\u001b[0m\u001b[0m\n",
      "\u001b[0;32m/anaconda3/lib/python3.6/site-packages/scipy/ndimage/interpolation.py\u001b[0m in \u001b[0;36m_geometric_transform\u001b[0;34m(input, mapping, coordinates, matrix, offset, output, order, mode, cval, extra_arguments, extra_keywords)\u001b[0m\n\u001b[1;32m    130\u001b[0m     _nd_image.geometric_transform(\n\u001b[1;32m    131\u001b[0m         \u001b[0minput\u001b[0m\u001b[0;34m,\u001b[0m \u001b[0mmapping\u001b[0m\u001b[0;34m,\u001b[0m \u001b[0mcoordinates\u001b[0m\u001b[0;34m,\u001b[0m \u001b[0mmatrix\u001b[0m\u001b[0;34m,\u001b[0m \u001b[0moffset\u001b[0m\u001b[0;34m,\u001b[0m \u001b[0moutput\u001b[0m\u001b[0;34m,\u001b[0m\u001b[0;34m\u001b[0m\u001b[0m\n\u001b[0;32m--> 132\u001b[0;31m         order, mode, cval, extra_arguments, extra_keywords)\n\u001b[0m\u001b[1;32m    133\u001b[0m \u001b[0;34m\u001b[0m\u001b[0m\n\u001b[1;32m    134\u001b[0m     \u001b[0;32mif\u001b[0m \u001b[0moutput\u001b[0m \u001b[0;32mis\u001b[0m \u001b[0;32mnot\u001b[0m \u001b[0;32mNone\u001b[0m \u001b[0;32mand\u001b[0m \u001b[0;32mnot\u001b[0m \u001b[0moutput\u001b[0m\u001b[0;34m.\u001b[0m\u001b[0mdtype\u001b[0m\u001b[0;34m.\u001b[0m\u001b[0misnative\u001b[0m\u001b[0;34m:\u001b[0m\u001b[0;34m\u001b[0m\u001b[0m\n",
      "\u001b[0;31mKeyboardInterrupt\u001b[0m: "
     ]
    }
   ],
   "source": [
    "X_train, y_train = load_data(ids=train_ids,\\\n",
    "                             path=TRAIN_PATH,\\\n",
    "                            training_data=True)"
   ]
  },
  {
   "cell_type": "markdown",
   "metadata": {},
   "source": [
    "Check if things look good by looking at a random image and its corresponding mask:"
   ]
  },
  {
   "cell_type": "code",
   "execution_count": null,
   "metadata": {
    "collapsed": true
   },
   "outputs": [],
   "source": [
    "# Check if training data looks all right\n",
    "ix = random.randint(0, len(train_ids))\n",
    "imshow(X_train[ix])\n",
    "plt.show()\n",
    "imshow(np.squeeze(Y_train[ix]))\n",
    "plt.show()"
   ]
  },
  {
   "cell_type": "markdown",
   "metadata": {},
   "source": [
    "# Create our PyTorch loss metric\n",
    "We need to define the loss metric our model will seek to minimize. This should follow the loss metric that is outlined in the competition.\n",
    "\n",
    "Helpful links:\n",
    "- [Competition Evaluation Page](https://www.kaggle.com/c/data-science-bowl-2018#evaluation)\n",
    "- [A helpful notebook I've been referencing that walks through a Keras model, including defining a loss metric](https://www.kaggle.com/keegil/keras-u-net-starter-lb-0-277?scriptVersionId=2164855)\n",
    "- [A 60-minute PyTorch Blitz tutorial that walks through a simple image classification model](http://pytorch.org/tutorials/beginner/deep_learning_60min_blitz.html)"
   ]
  },
  {
   "cell_type": "markdown",
   "metadata": {},
   "source": [
    "# Design our PyTorch model"
   ]
  },
  {
   "cell_type": "markdown",
   "metadata": {},
   "source": [
    "# Train and implement the model"
   ]
  },
  {
   "cell_type": "markdown",
   "metadata": {},
   "source": [
    "# Appendix\n",
    "Saving things for quick reference later. This section is largely a mess.\n",
    "\n",
    "NOTE: Don't run this stuff, it's not guarenteed to work."
   ]
  },
  {
   "cell_type": "code",
   "execution_count": null,
   "metadata": {
    "collapsed": true
   },
   "outputs": [],
   "source": [
    "import pathlib\n",
    "import imageio\n",
    "import numpy as np\n",
    "import matplotlib.pyplot as plt"
   ]
  },
  {
   "cell_type": "code",
   "execution_count": null,
   "metadata": {
    "collapsed": true
   },
   "outputs": [],
   "source": [
    "% matplotlib inline"
   ]
  },
  {
   "cell_type": "code",
   "execution_count": null,
   "metadata": {
    "collapsed": true
   },
   "outputs": [],
   "source": [
    "# Glob the training data and load a single image path\n",
    "training_paths = pathlib.Path('data/stage1_train/').glob('*/images/*.png')\n",
    "training_sorted = sorted([x for x in training_paths])"
   ]
  },
  {
   "cell_type": "code",
   "execution_count": null,
   "metadata": {
    "collapsed": true
   },
   "outputs": [],
   "source": [
    "im_path = training_sorted[45]"
   ]
  },
  {
   "cell_type": "code",
   "execution_count": null,
   "metadata": {},
   "outputs": [],
   "source": [
    "im_path"
   ]
  },
  {
   "cell_type": "code",
   "execution_count": null,
   "metadata": {
    "collapsed": true
   },
   "outputs": [],
   "source": [
    "im = imageio.imread(str(im_path))"
   ]
  },
  {
   "cell_type": "code",
   "execution_count": null,
   "metadata": {},
   "outputs": [],
   "source": [
    "print('Original image shape: {}'.format(im.shape))\n",
    "\n",
    "# Coerce the image into grayscale format (if not already)\n",
    "from skimage.color import rgb2gray\n",
    "im_gray = rgb2gray(im)\n",
    "print('New image shape: {}'.format(im_gray.shape))"
   ]
  },
  {
   "cell_type": "code",
   "execution_count": null,
   "metadata": {
    "collapsed": true
   },
   "outputs": [],
   "source": [
    "# Apply Otsu method to convert images to have bimodal distributions\n",
    "\n",
    "from skimage.filters import threshold_otsu\n",
    "\n",
    "thresh_val = threshold_otsu(im_gray)\n",
    "mask = np.where(im_gray > thresh_val, 1, 0)\n",
    "\n",
    "# Make sure the larger portion of the mask is considered background\n",
    "if np.sum(mask==0) < np.sum(mask==1):\n",
    "    mask = np.where(mask, 0, 1)"
   ]
  },
  {
   "cell_type": "code",
   "execution_count": null,
   "metadata": {
    "collapsed": true
   },
   "outputs": [],
   "source": [
    "from scipy import ndimage\n",
    "labels, nlabels = ndimage.label(mask)"
   ]
  },
  {
   "cell_type": "code",
   "execution_count": null,
   "metadata": {},
   "outputs": [],
   "source": [
    "label_arrays = []\n",
    "for label_num in range(1, nlabels+1):\n",
    "    label_mask = np.where(labels == label_num, 1, 0)\n",
    "    label_arrays.append(label_mask)\n",
    "\n",
    "print('There are {} separate components / objects detected.'.format(nlabels))"
   ]
  },
  {
   "cell_type": "code",
   "execution_count": null,
   "metadata": {},
   "outputs": [],
   "source": [
    "for label_ind, label_coords in enumerate(ndimage.find_objects(labels)):\n",
    "    cell = im_gray[label_coords]\n",
    "    \n",
    "    # Check if the label size is too small\n",
    "    if np.product(cell.shape) < 10: \n",
    "        print('Label {} is too small! Setting to 0.'.format(label_ind))\n",
    "        mask = np.where(labels==label_ind+1, 0, mask)\n",
    "\n",
    "# Regenerate the labels\n",
    "labels, nlabels = ndimage.label(mask)\n",
    "print('There are now {} separate components / objects detected.'.format(nlabels))"
   ]
  },
  {
   "cell_type": "code",
   "execution_count": null,
   "metadata": {
    "collapsed": true
   },
   "outputs": [],
   "source": [
    "# Get the object indices, and perform a binary opening procedure\n",
    "two_cell_indices = ndimage.find_objects(labels)[1]\n",
    "cell_mask = mask[two_cell_indices]\n",
    "cell_mask_opened = ndimage.binary_opening(cell_mask, iterations=8)"
   ]
  },
  {
   "cell_type": "code",
   "execution_count": null,
   "metadata": {},
   "outputs": [],
   "source": [
    "cell_mask_opened"
   ]
  },
  {
   "cell_type": "code",
   "execution_count": null,
   "metadata": {},
   "outputs": [],
   "source": [
    "imgplot = plt.imshow(cell_mask_opened)"
   ]
  },
  {
   "cell_type": "code",
   "execution_count": null,
   "metadata": {
    "collapsed": true
   },
   "outputs": [],
   "source": []
  },
  {
   "cell_type": "code",
   "execution_count": null,
   "metadata": {
    "collapsed": true
   },
   "outputs": [],
   "source": []
  }
 ],
 "metadata": {
  "kernelspec": {
   "display_name": "Python 3",
   "language": "python",
   "name": "python3"
  },
  "language_info": {
   "codemirror_mode": {
    "name": "ipython",
    "version": 3
   },
   "file_extension": ".py",
   "mimetype": "text/x-python",
   "name": "python",
   "nbconvert_exporter": "python",
   "pygments_lexer": "ipython3",
   "version": "3.6.2"
  }
 },
 "nbformat": 4,
 "nbformat_minor": 2
}
